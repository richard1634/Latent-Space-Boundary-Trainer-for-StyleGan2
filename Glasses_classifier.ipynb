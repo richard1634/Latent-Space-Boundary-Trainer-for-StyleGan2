{
  "nbformat": 4,
  "nbformat_minor": 0,
  "metadata": {
    "colab": {
      "name": "Glasses_classifier.ipynb",
      "provenance": [],
      "collapsed_sections": []
    },
    "kernelspec": {
      "name": "python3",
      "display_name": "Python 3"
    }
  },
  "cells": [
    {
      "cell_type": "markdown",
      "metadata": {
        "id": "jtctf0NQerOP"
      },
      "source": [
        "#### The goal of the classifer is to assign scores based on how sure it is of an image having glasses or not. A score of 1 signifies a strong prediction of glasses, and 0 if there is a low chance of glasses. The latent vectors and scores are used to train a linear support vector machine. In the next google colab notebook.\r\n"
      ]
    },
    {
      "cell_type": "code",
      "metadata": {
        "id": "wMUKmxLQ4bgz",
        "colab": {
          "base_uri": "https://localhost:8080/"
        },
        "outputId": "00c4a91d-52d0-43a5-b505-7f5be560ef95"
      },
      "source": [
        "!pip install Google-Colab-Transfer\r\n",
        "import colab_transfer\r\n",
        "colab_transfer.mount_google_drive()"
      ],
      "execution_count": 4,
      "outputs": [
        {
          "output_type": "stream",
          "text": [
            "Requirement already satisfied: Google-Colab-Transfer in /usr/local/lib/python3.6/dist-packages (0.1.6)\n",
            "Drive already mounted at /content/drive/; to attempt to forcibly remount, call drive.mount(\"/content/drive/\", force_remount=True).\n"
          ],
          "name": "stdout"
        }
      ]
    },
    {
      "cell_type": "markdown",
      "metadata": {
        "id": "k8z_MRZwb6fp"
      },
      "source": [
        "###Import Latent Vectors for faces from google Drive\r\n",
        "#### Contains folder with latent vectors divided into glasses folder and no glasses folder\r\n"
      ]
    },
    {
      "cell_type": "code",
      "metadata": {
        "id": "ppCmbHSO4bfL",
        "colab": {
          "base_uri": "https://localhost:8080/"
        },
        "outputId": "f0863dba-0fa1-48ff-f519-1c8c44543f73"
      },
      "source": [
        "archive_name = 'faces_classifier.tar.gz'\r\n",
        "colab_transfer.copy_file(file_name=archive_name,\r\n",
        "                         destination=colab_transfer.get_path_to_home_of_local_machine())"
      ],
      "execution_count": 5,
      "outputs": [
        {
          "output_type": "stream",
          "text": [
            "File /content/faces_classifier.tar.gz already exists. Copy skipped.\n"
          ],
          "name": "stdout"
        }
      ]
    },
    {
      "cell_type": "code",
      "metadata": {
        "id": "RGFeMxg84bcA"
      },
      "source": [
        "!du -sh $archive_name\r\n",
        "!tar -xvf $archive_name"
      ],
      "execution_count": null,
      "outputs": []
    },
    {
      "cell_type": "code",
      "metadata": {
        "id": "8Vd1mq0v6f5u"
      },
      "source": [
        "import matplotlib.pyplot as plt\r\n",
        "import numpy as np\r\n",
        "import os\r\n",
        "import PIL\r\n",
        "import tensorflow as tf\r\n",
        "\r\n",
        "from tensorflow import keras\r\n",
        "from tensorflow.keras import layers\r\n",
        "from tensorflow.keras.models import Sequential\r\n",
        "import pathlib\r\n"
      ],
      "execution_count": 7,
      "outputs": []
    },
    {
      "cell_type": "code",
      "metadata": {
        "id": "ssbSDa6d4bU7",
        "colab": {
          "base_uri": "https://localhost:8080/"
        },
        "outputId": "f6c1f789-bd64-4c4a-d905-e57417fdc639"
      },
      "source": [
        "\r\n",
        "data_dir2 = pathlib.Path(\"/content/GlassesClassifier\")\r\n",
        "print(data_dir2)"
      ],
      "execution_count": 9,
      "outputs": [
        {
          "output_type": "stream",
          "text": [
            "/content/GlassesClassifier\n"
          ],
          "name": "stdout"
        }
      ]
    },
    {
      "cell_type": "code",
      "metadata": {
        "colab": {
          "base_uri": "https://localhost:8080/"
        },
        "id": "kKoQSyfi8TBY",
        "outputId": "76aac9da-157b-460f-d8a6-6468e65e3f1f"
      },
      "source": [
        "glasses = list(data_dir2.glob('Glasses/*'))\r\n",
        "no_glasses = list(data_dir2.glob('NoGlasses/*'))\r\n",
        "print(glasses[:5])\r\n",
        "print(no_glasses[:5])"
      ],
      "execution_count": 12,
      "outputs": [
        {
          "output_type": "stream",
          "text": [
            "[PosixPath('/content/GlassesClassifier/Glasses/face-680.npy'), PosixPath('/content/GlassesClassifier/Glasses/face-974.npy'), PosixPath('/content/GlassesClassifier/Glasses/face-901.npy'), PosixPath('/content/GlassesClassifier/Glasses/face-275.npy'), PosixPath('/content/GlassesClassifier/Glasses/face-874.npy')]\n",
            "[PosixPath('/content/GlassesClassifier/NoGlasses/face-940.npy'), PosixPath('/content/GlassesClassifier/NoGlasses/face-622.npy'), PosixPath('/content/GlassesClassifier/NoGlasses/face-804.npy'), PosixPath('/content/GlassesClassifier/NoGlasses/face-827.npy'), PosixPath('/content/GlassesClassifier/NoGlasses/face-328.npy')]\n"
          ],
          "name": "stdout"
        }
      ]
    },
    {
      "cell_type": "markdown",
      "metadata": {
        "id": "u_KzRuWzckcT"
      },
      "source": [
        "#### Load latent vector files into memory"
      ]
    },
    {
      "cell_type": "code",
      "metadata": {
        "id": "kzNtGsmB6eRD"
      },
      "source": [
        "arr_glasses = []\r\n",
        "arr_noglasses = []\r\n",
        "\r\n",
        "\r\n",
        "for path in glasses:\r\n",
        "  sample = np.load(path)\r\n",
        "  arr_glasses.append(sample)\r\n",
        "\r\n",
        "for idx,path in enumerate(no_glasses):\r\n",
        "  #if idx != 621:          # \r\n",
        "  sample = np.load(path)\r\n",
        "  arr_noglasses.append(sample)\r\n",
        "\r\n",
        "np_glasses = np.array([x for x in arr_glasses])       # latent vectors with glasses\r\n",
        "np_noglasses = np.array([x for x in arr_noglasses])   # latent vectors with no glasses\r\n",
        "\r\n",
        "\r\n",
        "glasses_y = []\r\n",
        "glasses_n = []\r\n",
        "\r\n",
        "for i in range(np_glasses.shape[0]):\r\n",
        "  glasses_y.append(1.0)                              # label 1.0 to represent glasses are present\r\n",
        "for i in range(np_noglasses.shape[0]):\r\n",
        "  glasses_n.append(0)                                # label 0 to represent no glasses\r\n",
        "\r\n",
        "# print(np_glasses.shape)\r\n",
        "# print(np_noglasses.shape)"
      ],
      "execution_count": null,
      "outputs": []
    },
    {
      "cell_type": "code",
      "metadata": {
        "colab": {
          "base_uri": "https://localhost:8080/"
        },
        "id": "qBI8_3Rl61AE",
        "outputId": "1822cfba-6031-4e6c-82f9-3c94ff9fcc99"
      },
      "source": [
        "combine = np.concatenate((np_glasses, np_noglasses), axis=0)      #combine no_glasses and glasses vectors together\r\n",
        "combine_labels = np.concatenate((glasses_y, glasses_n), axis=0)   #combine the 0 and 1 labels together.\r\n",
        "print(combine.shape)\r\n",
        "print(combine_labels.shape)"
      ],
      "execution_count": 159,
      "outputs": [
        {
          "output_type": "stream",
          "text": [
            "(995, 18, 512)\n",
            "(995,)\n"
          ],
          "name": "stdout"
        }
      ]
    },
    {
      "cell_type": "markdown",
      "metadata": {
        "id": "fv9y9hYCdMql"
      },
      "source": [
        "#### Split data into train, test and validation"
      ]
    },
    {
      "cell_type": "code",
      "metadata": {
        "id": "w5zP3vBV6030"
      },
      "source": [
        "from sklearn.model_selection import train_test_split\r\n",
        "X = combine\r\n",
        "y = combine_labels\r\n",
        "x_train, x_test, y_train, y_test = train_test_split(X, y, test_size=0.3)\r\n",
        "x_test, x_val, y_test, y_val = train_test_split(x_test, y_test, test_size=0.5)\r\n",
        "\r\n",
        "nps_of_glasses = np_glasses.reshape(354, 9216).astype(\"float32\")\r\n",
        "nps_of_noglasses = np_noglasses.reshape(641, 9216).astype(\"float32\")"
      ],
      "execution_count": 160,
      "outputs": []
    },
    {
      "cell_type": "code",
      "metadata": {
        "colab": {
          "base_uri": "https://localhost:8080/"
        },
        "id": "PIN5yWCc60sw",
        "outputId": "94779c1f-2920-4ae8-8e91-ae4f47343d42"
      },
      "source": [
        "print(x_train.shape) #latent vectors used to train\r\n",
        "print(y_train.shape) #contains 1 or 0 depending on glasses or not\r\n",
        "print(x_test.shape)  #test data\r\n",
        "print(y_test.shape)\r\n",
        "print(x_val.shape)   #validation data\r\n",
        "print(y_val.shape)"
      ],
      "execution_count": 161,
      "outputs": [
        {
          "output_type": "stream",
          "text": [
            "(696, 18, 512)\n",
            "(696,)\n",
            "(149, 18, 512)\n",
            "(149,)\n",
            "(150, 18, 512)\n",
            "(150,)\n"
          ],
          "name": "stdout"
        }
      ]
    },
    {
      "cell_type": "code",
      "metadata": {
        "id": "1fF61rz32Rat"
      },
      "source": [
        "import tensorflow as tf\r\n",
        "from tensorflow import keras\r\n",
        "from tensorflow.keras import layers"
      ],
      "execution_count": 163,
      "outputs": []
    },
    {
      "cell_type": "markdown",
      "metadata": {
        "id": "g3UsJ2yjdltz"
      },
      "source": [
        "#### Create Model"
      ]
    },
    {
      "cell_type": "code",
      "metadata": {
        "id": "kkrKgrRd2VOH"
      },
      "source": [
        "inputs = keras.Input(shape=(9216,), name=\"digits\")\r\n",
        "x = layers.Dense(64, activation=\"relu\", name=\"dense_1\")(inputs)\r\n",
        "x = layers.Dense(64, activation=\"relu\", name=\"dense_2\")(x)\r\n",
        "outputs = layers.Dense(10, activation=\"softmax\", name=\"predictions\")(x)\r\n",
        "\r\n",
        "model = keras.Model(inputs=inputs, outputs=outputs)"
      ],
      "execution_count": 164,
      "outputs": []
    },
    {
      "cell_type": "markdown",
      "metadata": {
        "id": "kW-EEapsdvna"
      },
      "source": [
        "#### Preprocess the data, reshape from (num_samples,18,512) to (num_samples,9216) aka (num_samples, 18 * 512)"
      ]
    },
    {
      "cell_type": "code",
      "metadata": {
        "id": "GsN0Ew9TzR8k"
      },
      "source": [
        "\r\n",
        "# Preprocess the data (these are NumPy arrays)\r\n",
        "x_train = x_train.reshape(696, 9216).astype(\"float32\")\r\n",
        "x_test = x_test.reshape(149, 9216).astype(\"float32\") \r\n",
        "x_val = x_val.reshape(150,9216).astype(\"float32\") \r\n",
        "\r\n",
        "y_train = y_train.astype(\"float32\")\r\n",
        "y_test = y_test.astype(\"float32\")\r\n",
        "y_val = y_val.astype(\"float32\")"
      ],
      "execution_count": 168,
      "outputs": []
    },
    {
      "cell_type": "code",
      "metadata": {
        "colab": {
          "base_uri": "https://localhost:8080/"
        },
        "id": "mM_UPKe_5sU8",
        "outputId": "b660ed65-e48f-489e-a158-f76aa4be5ea2"
      },
      "source": [
        "print(x_train.shape)\r\n",
        "print(y_train.shape)"
      ],
      "execution_count": 169,
      "outputs": [
        {
          "output_type": "stream",
          "text": [
            "(696, 9216)\n",
            "(696,)\n",
            "(1, 9216)\n"
          ],
          "name": "stdout"
        }
      ]
    },
    {
      "cell_type": "code",
      "metadata": {
        "id": "m1gudXfc2VT8"
      },
      "source": [
        "model.compile(\r\n",
        "    optimizer=keras.optimizers.RMSprop(),  # Optimizer\r\n",
        "    # Loss function to minimize\r\n",
        "    loss=keras.losses.SparseCategoricalCrossentropy(),\r\n",
        "    # List of metrics to monitor\r\n",
        "    metrics=[keras.metrics.SparseCategoricalAccuracy()],\r\n",
        ")"
      ],
      "execution_count": 170,
      "outputs": []
    },
    {
      "cell_type": "code",
      "metadata": {
        "id": "CXIMoUZ62VV4"
      },
      "source": [
        "print(\"Fit model on training data\")\r\n",
        "history = model.fit(\r\n",
        "    x_train,\r\n",
        "    y_train,\r\n",
        "    batch_size=64,\r\n",
        "    epochs=100,\r\n",
        "    # We pass some validation for\r\n",
        "    # monitoring validation loss and metrics\r\n",
        "    # at the end of each epoch\r\n",
        "    validation_data=(x_val, y_val),\r\n",
        ")"
      ],
      "execution_count": null,
      "outputs": []
    },
    {
      "cell_type": "code",
      "metadata": {
        "id": "HZLs7aAE2VXz"
      },
      "source": [
        "history.history"
      ],
      "execution_count": null,
      "outputs": []
    },
    {
      "cell_type": "code",
      "metadata": {
        "colab": {
          "base_uri": "https://localhost:8080/"
        },
        "id": "I1fe0ZjN2VZq",
        "outputId": "7d47c235-e01e-4237-be64-481e700a0307"
      },
      "source": [
        "# Evaluate the model on the test data using `evaluate`\r\n",
        "print(\"Evaluate on test data\")\r\n",
        "results = model.evaluate(x_test, y_test, batch_size=32)\r\n",
        "print(\"test loss, test acc:\", results)\r\n",
        "\r\n",
        "# Generate predictions (probabilities -- the output of the last layer)\r\n",
        "# on new data using `predict`\r\n",
        "print(\"Generate predictions for 3 samples\")\r\n",
        "predictions = model.predict(x_test[:10])\r\n",
        "print(predictions)"
      ],
      "execution_count": 173,
      "outputs": [
        {
          "output_type": "stream",
          "text": [
            "Evaluate on test data\n",
            "5/5 [==============================] - 0s 3ms/step - loss: 0.3516 - sparse_categorical_accuracy: 0.9664\n",
            "test loss, test acc: [0.35161712765693665, 0.9664429426193237]\n",
            "Generate predictions for 3 samples\n",
            "[[1.0000000e+00 1.2785227e-14 7.3711829e-14 4.6938710e-14 2.9853121e-15\n",
            "  3.6823226e-14 1.1294280e-16 2.7240043e-13 4.8443990e-16 1.5591987e-15]\n",
            " [1.2107247e-12 1.0000000e+00 6.9916538e-12 4.5262206e-16 3.8393195e-11\n",
            "  6.0575386e-12 1.3206172e-11 5.8208104e-13 3.7082514e-11 1.1293619e-11]\n",
            " [1.0000000e+00 1.3128447e-18 4.8782005e-18 4.4712535e-16 1.5306852e-17\n",
            "  2.5840724e-17 4.1089809e-20 1.5756398e-17 5.4391799e-19 7.0312539e-19]\n",
            " [9.9937516e-01 6.2344805e-04 5.4866251e-07 2.6292672e-09 6.6878968e-08\n",
            "  2.5460631e-07 6.2738210e-09 2.0061385e-07 2.5111683e-08 2.5604683e-07]\n",
            " [1.0000000e+00 2.8107988e-18 2.5568610e-18 1.6920164e-15 4.0197021e-17\n",
            "  1.6613529e-17 6.1586711e-20 4.2493596e-18 1.3240756e-18 1.3679001e-18]\n",
            " [1.0000000e+00 3.6385166e-12 1.0503666e-11 4.0822658e-12 5.0889062e-13\n",
            "  1.0430715e-11 4.7309291e-14 1.3142874e-11 2.0805154e-13 2.6600315e-12]\n",
            " [9.9999881e-01 1.1644123e-06 2.8341089e-08 2.5005079e-10 3.0572436e-09\n",
            "  3.0327243e-08 2.6822081e-10 2.4437325e-08 1.4027682e-09 1.5206306e-08]\n",
            " [1.0000000e+00 4.0915689e-14 3.2893257e-13 4.2406906e-13 9.7873412e-15\n",
            "  8.3674428e-14 7.2287422e-16 7.3861333e-13 3.2566606e-15 3.4835196e-15]\n",
            " [1.0000000e+00 1.5481416e-12 2.1556058e-12 5.1410129e-13 5.5149095e-14\n",
            "  1.3172482e-12 4.3588743e-15 5.5943310e-12 1.7302074e-14 5.3710491e-14]\n",
            " [1.0000000e+00 4.0790218e-15 1.4999080e-14 1.1604553e-13 2.7619316e-15\n",
            "  1.8799215e-14 8.8012295e-17 8.4403743e-14 3.7037601e-16 2.8388725e-16]]\n"
          ],
          "name": "stdout"
        }
      ]
    },
    {
      "cell_type": "code",
      "metadata": {
        "id": "kB34BnYR2VbV"
      },
      "source": [
        "\r\n",
        "combine = combine.reshape(995,9216).astype(\"float32\")\r\n",
        "#print(combine[-1].shape)\r\n",
        "predictions = model.predict(combine[0:])"
      ],
      "execution_count": 174,
      "outputs": []
    },
    {
      "cell_type": "markdown",
      "metadata": {
        "id": "2PrjJkGkeSPN"
      },
      "source": [
        "Assign scores from the predictions, to give to the linear SVM to find a boundary between glasses and no glasses"
      ]
    },
    {
      "cell_type": "code",
      "metadata": {
        "colab": {
          "base_uri": "https://localhost:8080/"
        },
        "id": "j1CNEgI1xADk",
        "outputId": "81e01f5b-dad8-4b5d-ca4d-731e06a1db32"
      },
      "source": [
        "\r\n",
        "scores = []\r\n",
        "for i in predictions:\r\n",
        "  max_idx = np.argmax(i)  \r\n",
        "  max_num = np.amax(i)\r\n",
        "  if max_idx == 0:      # if its not glasses \r\n",
        "    score = 1 - max_num #inverse the score \r\n",
        "  else:                 # if it is glasses\r\n",
        "    score = max_num     # assign the score\r\n",
        "  scores.append(score)\r\n",
        "print(np.array(scores).shape)"
      ],
      "execution_count": 175,
      "outputs": [
        {
          "output_type": "stream",
          "text": [
            "(995,)\n"
          ],
          "name": "stdout"
        }
      ]
    },
    {
      "cell_type": "markdown",
      "metadata": {
        "id": "HwTEOrROeaf8"
      },
      "source": [
        "#### Export the latent vectors and scores to google drive\r\n"
      ]
    },
    {
      "cell_type": "code",
      "metadata": {
        "id": "H4zElybh2VdY"
      },
      "source": [
        "import os \r\n",
        "dst_dir = \"numpyarrglasses/\"\r\n",
        "os.makedirs(dst_dir, exist_ok=True)\r\n",
        "filename = os.path.join(dst_dir, 'glasses_latent_vectors.npy')\r\n",
        "np.save(filename,combine)\r\n",
        "\r\n",
        "filename = os.path.join(dst_dir, 'scores.npy')\r\n",
        "np.save(filename,scores)\r\n"
      ],
      "execution_count": 176,
      "outputs": []
    },
    {
      "cell_type": "code",
      "metadata": {
        "id": "CZsepkPT2VfO",
        "colab": {
          "base_uri": "https://localhost:8080/"
        },
        "outputId": "db4e2b62-715f-4131-815e-f536abf35ce6"
      },
      "source": [
        "folder_name = 'numpyarrglasses'\r\n",
        "archive_name = 'numpyarrglasses.tar.gz'\r\n",
        "!tar -cvf $archive_name $folder_name/\r\n",
        "!du -sh $archive_name"
      ],
      "execution_count": 177,
      "outputs": [
        {
          "output_type": "stream",
          "text": [
            "numpyarrglasses/\n",
            "numpyarrglasses/glasses_latent_vectors.npy\n",
            "numpyarrglasses/scores.npy\n",
            "numpyarrglasses/.ipynb_checkpoints/\n",
            "35M\tnumpyarrglasses.tar.gz\n"
          ],
          "name": "stdout"
        }
      ]
    },
    {
      "cell_type": "code",
      "metadata": {
        "id": "PRP8Wjql2VhX",
        "colab": {
          "base_uri": "https://localhost:8080/"
        },
        "outputId": "7388f25e-5c43-42bc-ce87-eaad41c54b21"
      },
      "source": [
        "colab_transfer.copy_file(file_name=archive_name,\r\n",
        "                         source=colab_transfer.get_path_to_home_of_local_machine(),\r\n",
        "                         destination=colab_transfer.get_path_to_home_of_google_drive())"
      ],
      "execution_count": 178,
      "outputs": [
        {
          "output_type": "stream",
          "text": [
            "File /content/drive/My Drive/numpyarrglasses.tar.gz already exists. Copy skipped.\n"
          ],
          "name": "stdout"
        }
      ]
    },
    {
      "cell_type": "markdown",
      "metadata": {
        "id": "pWD1IISq1dw6"
      },
      "source": [
        "# We can now proceed to pass the latent vectors and scores to a linear svm, to find the boundary."
      ]
    }
  ]
}