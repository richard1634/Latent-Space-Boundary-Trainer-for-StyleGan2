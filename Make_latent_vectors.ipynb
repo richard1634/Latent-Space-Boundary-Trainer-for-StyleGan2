{
  "nbformat": 4,
  "nbformat_minor": 0,
  "metadata": {
    "colab": {
      "name": "Make_latent_vectors.ipynb",
      "provenance": [],
      "collapsed_sections": [
        "sbWQ38fBoo4h",
        "0Z2z1jiBLIO0",
        "e_vWEm0-MKV9",
        "nyxmRzbDYkB5",
        "AvR92XQJD7jK",
        "SOOOR_A4D9lA",
        "IjJFkW-JEUs8",
        "xYFi5OTeEX0a",
        "S3tr-n8igvAT",
        "evb-GTVCKYRQ",
        "KfPtQa5-MQ8f",
        "7S7R49VRMDzu",
        "bEeBIhPmFxIx",
        "ixZdbr_6_4ZS",
        "Lka4prtBMc-r",
        "lsUyY1VuMqgS",
        "IXjO9BmCGFqT",
        "9gV2F2JpACFK",
        "7wIWEL1aHVEj"
      ],
      "toc_visible": true,
      "machine_shape": "hm"
    },
    "kernelspec": {
      "name": "python3",
      "display_name": "Python 3"
    },
    "accelerator": "GPU"
  },
  "cells": [
    {
      "cell_type": "markdown",
      "metadata": {
        "id": "8UDVO2FGKIQw"
      },
      "source": [
        "# Projecting images to latent space with StyleGAN2.\n"
      ]
    },
    {
      "cell_type": "markdown",
      "metadata": {
        "id": "g0oZRRs2KO5A"
      },
      "source": [
        "## Requirements"
      ]
    },
    {
      "cell_type": "markdown",
      "metadata": {
        "id": "sbWQ38fBoo4h"
      },
      "source": [
        "### Switch to Tensorflow 1.x"
      ]
    },
    {
      "cell_type": "markdown",
      "metadata": {
        "id": "is5dko6You4K"
      },
      "source": [
        "The default TensorFlow version in Colab switched from  1.x to 2.x on the 27th of March, 2020.\n",
        "\n",
        "Reference: https://colab.research.google.com/notebooks/tensorflow_version.ipynb\n",
        "\n",
        "We switch to version 1.x to avoid the following error:\n",
        "> `ModuleNotFoundError: No module named 'tensorflow.contrib' colab`"
      ]
    },
    {
      "cell_type": "code",
      "metadata": {
        "id": "JT9Mh7OIKsda",
        "colab": {
          "base_uri": "https://localhost:8080/"
        },
        "outputId": "4a8c22f2-b035-4d17-9256-1cb9637b8ead"
      },
      "source": [
        "%tensorflow_version 1.x"
      ],
      "execution_count": 1,
      "outputs": [
        {
          "output_type": "stream",
          "text": [
            "TensorFlow 1.x selected.\n"
          ],
          "name": "stdout"
        }
      ]
    },
    {
      "cell_type": "code",
      "metadata": {
        "colab": {
          "base_uri": "https://localhost:8080/"
        },
        "id": "CxOxRXejuo--",
        "outputId": "62954ae9-b1b0-4724-a102-caaa8e6449a3"
      },
      "source": [
        "from google.colab import drive\n",
        "drive.mount('/content/drive')"
      ],
      "execution_count": 1,
      "outputs": [
        {
          "output_type": "stream",
          "text": [
            "Mounted at /content/drive\n"
          ],
          "name": "stdout"
        }
      ]
    },
    {
      "cell_type": "markdown",
      "metadata": {
        "id": "0Z2z1jiBLIO0"
      },
      "source": [
        "### Install my fork of StyleGAN2\n",
        "\n",
        "Reference: https://github.com/richard1634/stylegan2\n"
      ]
    },
    {
      "cell_type": "markdown",
      "metadata": {
        "id": "QTTBkJExOr4V"
      },
      "source": [
        "Clone my fork."
      ]
    },
    {
      "cell_type": "code",
      "metadata": {
        "id": "YkyUNYSS4h_B",
        "colab": {
          "base_uri": "https://localhost:8080/"
        },
        "outputId": "1c3b4a82-f649-4f43-b1c7-0bfa8c48369d"
      },
      "source": [
        "%cd /content/"
      ],
      "execution_count": 2,
      "outputs": [
        {
          "output_type": "stream",
          "text": [
            "/content\n"
          ],
          "name": "stdout"
        }
      ]
    },
    {
      "cell_type": "code",
      "metadata": {
        "id": "mGDunHOOKtFQ",
        "colab": {
          "base_uri": "https://localhost:8080/"
        },
        "outputId": "10fc6561-7b01-4a48-ce92-bd9e9e196478"
      },
      "source": [
        "%rm -rf stylegan2/\n",
        "!git clone https://github.com/richard1634/stylegan2.git"
      ],
      "execution_count": 3,
      "outputs": [
        {
          "output_type": "stream",
          "text": [
            "Cloning into 'stylegan2'...\n",
            "remote: Enumerating objects: 63, done.\u001b[K\n",
            "remote: Counting objects: 100% (63/63), done.\u001b[K\n",
            "remote: Compressing objects: 100% (55/55), done.\u001b[K\n",
            "remote: Total 63 (delta 6), reused 63 (delta 6), pack-reused 0\u001b[K\n",
            "Unpacking objects: 100% (63/63), done.\n"
          ],
          "name": "stdout"
        }
      ]
    },
    {
      "cell_type": "markdown",
      "metadata": {
        "id": "_Fg_sbLDNziA"
      },
      "source": [
        "Install."
      ]
    },
    {
      "cell_type": "code",
      "metadata": {
        "id": "6aM4C4Ho9g-A",
        "colab": {
          "base_uri": "https://localhost:8080/"
        },
        "outputId": "4bd1a214-9fb2-4fb2-8e86-f62a651f1bb7"
      },
      "source": [
        "!nvcc test_nvcc.cu -o test_nvcc -run"
      ],
      "execution_count": 4,
      "outputs": [
        {
          "output_type": "stream",
          "text": [
            "\u001b[01m\u001b[Kgcc:\u001b[m\u001b[K \u001b[01;31m\u001b[Kerror: \u001b[m\u001b[Ktest_nvcc.cu: No such file or directory\n",
            "\u001b[01m\u001b[Kgcc:\u001b[m\u001b[K \u001b[01;35m\u001b[Kwarning: \u001b[m\u001b[K‘\u001b[01m\u001b[K-x c++\u001b[m\u001b[K’ after last input file has no effect\n",
            "\u001b[01m\u001b[Kgcc:\u001b[m\u001b[K \u001b[01;31m\u001b[Kfatal error: \u001b[m\u001b[Kno input files\n",
            "compilation terminated.\n"
          ],
          "name": "stdout"
        }
      ]
    },
    {
      "cell_type": "markdown",
      "metadata": {
        "id": "0N9u5OkpN1X0"
      },
      "source": [
        "### Mount Google Drive"
      ]
    },
    {
      "cell_type": "code",
      "metadata": {
        "id": "nGQVxN4TN1Xi",
        "colab": {
          "base_uri": "https://localhost:8080/"
        },
        "outputId": "fdbf8783-01cb-47a4-9027-c9949b5541a3"
      },
      "source": [
        "!pip install Google-Colab-Transfer"
      ],
      "execution_count": 5,
      "outputs": [
        {
          "output_type": "stream",
          "text": [
            "Collecting Google-Colab-Transfer\n",
            "  Downloading https://files.pythonhosted.org/packages/a0/90/76fc38bcad442018977ed0e4e663473ef56a4d15395b2aa09055e8c49185/Google_Colab_Transfer-0.1.6-py3-none-any.whl\n",
            "Installing collected packages: Google-Colab-Transfer\n",
            "Successfully installed Google-Colab-Transfer-0.1.6\n"
          ],
          "name": "stdout"
        }
      ]
    },
    {
      "cell_type": "code",
      "metadata": {
        "id": "f-NGuV2QN1XL"
      },
      "source": [
        "import colab_transfer"
      ],
      "execution_count": 6,
      "outputs": []
    },
    {
      "cell_type": "code",
      "metadata": {
        "id": "lSfgjCOdN1WK",
        "colab": {
          "base_uri": "https://localhost:8080/"
        },
        "outputId": "6083538d-b1a3-45cb-c785-3ce17b8f9487"
      },
      "source": [
        "colab_transfer.mount_google_drive()"
      ],
      "execution_count": 7,
      "outputs": [
        {
          "output_type": "stream",
          "text": [
            "Drive already mounted at /content/drive/; to attempt to forcibly remount, call drive.mount(\"/content/drive/\", force_remount=True).\n"
          ],
          "name": "stdout"
        }
      ]
    },
    {
      "cell_type": "code",
      "metadata": {
        "id": "JDKACV_DdGpZ",
        "colab": {
          "base_uri": "https://localhost:8080/"
        },
        "outputId": "568c03c5-d3fa-40ed-f6e1-a66785aac9b6"
      },
      "source": [
        "%cd /content/stylegan2/"
      ],
      "execution_count": 8,
      "outputs": [
        {
          "output_type": "stream",
          "text": [
            "/content/stylegan2\n"
          ],
          "name": "stdout"
        }
      ]
    },
    {
      "cell_type": "markdown",
      "metadata": {
        "id": "kgTLWoB0rLGz"
      },
      "source": [
        "##### Import Images from google drive, I put it my .png files in a folder, tar.gz'ed them and uploaded them to drive. The faces in my images are aligned.\r\n",
        "\r\n"
      ]
    },
    {
      "cell_type": "code",
      "metadata": {
        "id": "vkgBmVJorKef",
        "colab": {
          "base_uri": "https://localhost:8080/"
        },
        "outputId": "6d13979c-30dc-416c-d28e-b1f27c3c2879"
      },
      "source": [
        "archive_name = 'faces.tar.gz'  # the name of my folder on drive. It's a folder with .png files of aligned faces.\r\n",
        "colab_transfer.copy_file(file_name=archive_name,\r\n",
        "                         destination=colab_transfer.get_path_to_home_of_local_machine() + 'stylegan2/')"
      ],
      "execution_count": 13,
      "outputs": [
        {
          "output_type": "stream",
          "text": [
            "Copying /content/drive/My Drive/faces.tar.gz to /content/stylegan2/faces.tar.gz\n"
          ],
          "name": "stdout"
        }
      ]
    },
    {
      "cell_type": "code",
      "metadata": {
        "id": "TUUvl1YwrKRc"
      },
      "source": [
        "!du -sh $archive_name\r\n",
        "!tar -xvf $archive_name"
      ],
      "execution_count": null,
      "outputs": []
    },
    {
      "cell_type": "markdown",
      "metadata": {
        "id": "h4r_6KF0OXbg"
      },
      "source": [
        "### Projecting images to latent space\n",
        "\n",
        "Reference: https://github.com/woctezuma/stylegan2/tree/tiled-projector"
      ]
    },
    {
      "cell_type": "markdown",
      "metadata": {
        "id": "beAa5YPrdqgs"
      },
      "source": [
        "#### `--no-tiled` projection\n",
        "\n",
        "This is the projector suggested in [`rolux/stylegan2encoder`](https://github.com/rolux/stylegan2encoder), using `W(18, 512)`.\n",
        "\n",
        "Visual fidelity is higher, but semantic fidelity is lower."
      ]
    },
    {
      "cell_type": "code",
      "metadata": {
        "id": "NUOaHmS9zV9G",
        "colab": {
          "base_uri": "https://localhost:8080/"
        },
        "outputId": "743b7419-d2ce-4658-c4d1-e969229b73ee"
      },
      "source": [
        "#%cd /content/stylegan2/\r\n",
        "!pwd"
      ],
      "execution_count": 16,
      "outputs": [
        {
          "output_type": "stream",
          "text": [
            "/content/stylegan2\n"
          ],
          "name": "stdout"
        }
      ]
    },
    {
      "cell_type": "markdown",
      "metadata": {
        "id": "tXqxgl27GGhR"
      },
      "source": [
        "\r\n",
        "###### Vanilla"
      ]
    },
    {
      "cell_type": "code",
      "metadata": {
        "colab": {
          "base_uri": "https://localhost:8080/"
        },
        "id": "Vm44uv1L-t_Z",
        "outputId": "05a2b247-bd9c-4d91-810b-b54b28adab35"
      },
      "source": [
        "import os\r\n",
        "archive_name = \"faces\"\r\n",
        "src_files = sorted([os.path.join(archive_name, f) for f in os.listdir(archive_name) if f[0] not in '._'])\r\n",
        "print(len(src_files))  # number of images\r\n",
        "print(src_files[0])    # example of whats in the folder"
      ],
      "execution_count": 15,
      "outputs": [
        {
          "output_type": "stream",
          "text": [
            "996\n",
            "faces/face-1.png\n"
          ],
          "name": "stdout"
        }
      ]
    },
    {
      "cell_type": "markdown",
      "metadata": {
        "id": "punRxR611cpH"
      },
      "source": [
        "###Projections are done in batches of 100 to reduce using all of colabs avaliable memory"
      ]
    },
    {
      "cell_type": "code",
      "metadata": {
        "id": "3oL_ZiQoJeTT"
      },
      "source": [
        "!python project_images.py faces/ generated_images_no_tiled 0 100 --no-tiled --num-steps=50   #project images to latent space, starting at image 0 and going to 100, step 50 times. \n",
        "!python project_images.py faces/ generated_images_no_tiled 100 200 --no-tiled --num-steps=50\n",
        "!python project_images.py faces/ generated_images_no_tiled 200 300 --no-tiled --num-steps=50\n",
        "!python project_images.py faces/ generated_images_no_tiled 300 400 --no-tiled --num-steps=50"
      ],
      "execution_count": null,
      "outputs": []
    },
    {
      "cell_type": "code",
      "metadata": {
        "id": "tqRAKCSB6cn8"
      },
      "source": [
        "\r\n",
        "!python project_images.py faces/ generated_images_no_tiled 400 500 --no-tiled --num-steps=50\r\n",
        "!python project_images.py faces/ generated_images_no_tiled 500 600 --no-tiled --num-steps=50\r\n",
        "!python project_images.py faces/ generated_images_no_tiled 600 700 --no-tiled --num-steps=50\r\n",
        "!python project_images.py faces/ generated_images_no_tiled 700 800 --no-tiled --num-steps=50\r\n",
        "!python project_images.py faces/ generated_images_no_tiled 800 900 --no-tiled --num-steps=50\r\n",
        "!python project_images.py faces/ generated_images_no_tiled 900 996 --no-tiled --num-steps=50"
      ],
      "execution_count": null,
      "outputs": []
    },
    {
      "cell_type": "markdown",
      "metadata": {
        "id": "9gV2F2JpACFK"
      },
      "source": [
        "##### Export projected images"
      ]
    },
    {
      "cell_type": "code",
      "metadata": {
        "id": "72Bczc1rGJgP"
      },
      "source": [
        "archive_name = 'faces_latent.tar.gz'  # i export it as faces_latent.tar.gz to my google drive."
      ],
      "execution_count": null,
      "outputs": []
    },
    {
      "cell_type": "code",
      "metadata": {
        "id": "lQTvL3GN_x6r"
      },
      "source": [
        "folder_name = 'generated_images_no_tiled'\n",
        "\n",
        "!tar -cvf $archive_name $folder_name/\n",
        "!du -sh $archive_name"
      ],
      "execution_count": null,
      "outputs": []
    },
    {
      "cell_type": "code",
      "metadata": {
        "id": "KKsyqZCf_z2K",
        "colab": {
          "base_uri": "https://localhost:8080/"
        },
        "outputId": "c0b79f00-4582-4178-dba7-aa9154b73b7c"
      },
      "source": [
        "colab_transfer.copy_file(file_name=archive_name,\n",
        "                         source=colab_transfer.get_path_to_home_of_local_machine() + 'stylegan2/',\n",
        "                         destination=colab_transfer.get_path_to_home_of_google_drive())"
      ],
      "execution_count": null,
      "outputs": [
        {
          "output_type": "stream",
          "text": [
            "File /content/drive/My Drive/faces_latent.tar.gz already exists. Copy skipped.\n"
          ],
          "name": "stdout"
        }
      ]
    },
    {
      "cell_type": "markdown",
      "metadata": {
        "id": "fhzNFx02QYN0"
      },
      "source": [
        "#### We've finished creating latent vectors from the images. Next we'll have to hand classify the images into those with glasses vs those with no glasses to help train our classifier. Move on to https://colab.research.google.com/github/richard1634/Latent-Space-Boundary-Trainer-for-StyleGan2/blob/master/Glasses_classifier.ipynb"
      ]
    }
  ]
}