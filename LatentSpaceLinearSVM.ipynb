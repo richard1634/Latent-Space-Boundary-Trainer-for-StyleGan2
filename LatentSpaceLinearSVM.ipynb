{
  "nbformat": 4,
  "nbformat_minor": 0,
  "metadata": {
    "colab": {
      "name": "LatentSpaceLinearSVM.ipynb",
      "provenance": [],
      "collapsed_sections": []
    },
    "kernelspec": {
      "name": "python3",
      "display_name": "Python 3"
    },
    "accelerator": "GPU"
  },
  "cells": [
    {
      "cell_type": "markdown",
      "metadata": {
        "id": "-6lN_3yaEm5B"
      },
      "source": [
        "#Use the linear SVM to train the boundary. By using latent vectors that have a high probability of having glasses and those that have a very low probability"
      ]
    },
    {
      "cell_type": "markdown",
      "metadata": {
        "id": "Y1tgR1SfJtOG"
      },
      "source": [
        "Import folder containing latent vectors and corresponding scores signifying their likelihood of having glasses."
      ]
    },
    {
      "cell_type": "code",
      "metadata": {
        "id": "k5uz3FFDqQ57",
        "colab": {
          "base_uri": "https://localhost:8080/"
        },
        "outputId": "6b68cb88-5863-4026-f8f4-ebffbbe4bde2"
      },
      "source": [
        "!pip install Google-Colab-Transfer\r\n",
        "import colab_transfer\r\n",
        "colab_transfer.mount_google_drive()"
      ],
      "execution_count": 5,
      "outputs": [
        {
          "output_type": "stream",
          "text": [
            "Requirement already satisfied: Google-Colab-Transfer in /usr/local/lib/python3.6/dist-packages (0.1.6)\n",
            "Drive already mounted at /content/drive/; to attempt to forcibly remount, call drive.mount(\"/content/drive/\", force_remount=True).\n"
          ],
          "name": "stdout"
        }
      ]
    },
    {
      "cell_type": "code",
      "metadata": {
        "colab": {
          "base_uri": "https://localhost:8080/"
        },
        "id": "GfTPrUMlqeNt",
        "outputId": "89fa5ac4-8a6a-4a26-eec3-671c39045080"
      },
      "source": [
        "archive_name = 'numpyarrglasses.tar.gz'     \r\n",
        "colab_transfer.copy_file(file_name=archive_name,\r\n",
        "                         destination=colab_transfer.get_path_to_home_of_local_machine())"
      ],
      "execution_count": 6,
      "outputs": [
        {
          "output_type": "stream",
          "text": [
            "File /content/numpyarrglasses.tar.gz already exists. Copy skipped.\n"
          ],
          "name": "stdout"
        }
      ]
    },
    {
      "cell_type": "code",
      "metadata": {
        "colab": {
          "base_uri": "https://localhost:8080/"
        },
        "id": "A_e4CVXiqmJe",
        "outputId": "9f00a3ff-32b6-4a88-9858-a7aa7176f96b"
      },
      "source": [
        "folder_name = 'numpyarrglasses'\r\n",
        "archive_name = 'numpyarrglasses.tar.gz'\r\n",
        "\r\n",
        "!du -sh $archive_name\r\n",
        "!tar -xvf $archive_name"
      ],
      "execution_count": 7,
      "outputs": [
        {
          "output_type": "stream",
          "text": [
            "36M\tnumpyarrglasses.tar.gz\n",
            "numpyarrglasses/\n",
            "numpyarrglasses/glasses_latent_vectors.npy\n",
            "numpyarrglasses/scores.npy\n",
            "numpyarrglasses/.ipynb_checkpoints/\n"
          ],
          "name": "stdout"
        }
      ]
    },
    {
      "cell_type": "code",
      "metadata": {
        "id": "wBx5btbvuG4G"
      },
      "source": [
        "import numpy as np\r\n",
        "from sklearn import svm\r\n",
        "import os\r\n",
        "import sys\r\n",
        "import logging"
      ],
      "execution_count": 9,
      "outputs": []
    },
    {
      "cell_type": "markdown",
      "metadata": {
        "id": "tsuaV__lJnAJ"
      },
      "source": [
        "Linear SVM that returns a boundary"
      ]
    },
    {
      "cell_type": "code",
      "metadata": {
        "id": "efHKNfE_fzDw"
      },
      "source": [
        "def train_boundary(latent_codes,\r\n",
        "                   scores,\r\n",
        "                   chosen_num_or_ratio=0.02,\r\n",
        "                   split_ratio=0.7,\r\n",
        "                   invalid_value=None,\r\n",
        "                   logger=None):\r\n",
        "  \"\"\"Trains boundary in latent space with offline predicted attribute scores.\r\n",
        "  Given a collection of latent codes and the attribute scores predicted from the\r\n",
        "  corresponding images, this function will train a linear SVM by treating it as\r\n",
        "  a bi-classification problem. Basically, the samples with highest attribute\r\n",
        "  scores are treated as positive samples, while those with lowest scores as\r\n",
        "  negative. For now, the latent code can ONLY be with 1 dimension.\r\n",
        "  NOTE: The returned boundary is with shape (1, latent_space_dim), and also\r\n",
        "  normalized with unit norm.\r\n",
        "  Args:\r\n",
        "    latent_codes: Input latent codes as training data.\r\n",
        "    scores: Input attribute scores used to generate training labels.\r\n",
        "    chosen_num_or_ratio: How many samples will be chosen as positive (negative)\r\n",
        "      samples. If this field lies in range (0, 0.5], `chosen_num_or_ratio *\r\n",
        "      latent_codes_num` will be used. Otherwise, `min(chosen_num_or_ratio,\r\n",
        "      0.5 * latent_codes_num)` will be used. (default: 0.02)\r\n",
        "    split_ratio: Ratio to split training and validation sets. (default: 0.7)\r\n",
        "    invalid_value: This field is used to filter out data. (default: None)\r\n",
        "    logger: Logger for recording log messages. If set as `None`, a default\r\n",
        "      logger, which prints messages from all levels to screen, will be created.\r\n",
        "      (default: None)\r\n",
        "  Returns:\r\n",
        "    A decision boundary with type `numpy.ndarray`.\r\n",
        "  Raises:\r\n",
        "    ValueError: If the input `latent_codes` or `scores` are with invalid format.\r\n",
        "  \"\"\"\r\n",
        "  # if not logger:\r\n",
        "  #   logger = setup_logger(work_dir='', logger_name='train_boundary')\r\n",
        "\r\n",
        "  if (not isinstance(latent_codes, np.ndarray) or\r\n",
        "      not len(latent_codes.shape) == 2):\r\n",
        "    raise ValueError(f'Input `latent_codes` should be with type'\r\n",
        "                     f'`numpy.ndarray`, and shape [num_samples, '\r\n",
        "                     f'latent_space_dim]!')\r\n",
        "  num_samples = latent_codes.shape[0]\r\n",
        "  latent_space_dim = latent_codes.shape[1]\r\n",
        "  if (not isinstance(scores, np.ndarray) or not len(scores.shape) == 2 or\r\n",
        "      not scores.shape[0] == num_samples or not scores.shape[1] == 1):\r\n",
        "    raise ValueError(f'Input `scores` should be with type `numpy.ndarray`, and '\r\n",
        "                     f'shape [num_samples, 1], where `num_samples` should be '\r\n",
        "                     f'exactly same as that of input `latent_codes`!')\r\n",
        "  if chosen_num_or_ratio <= 0:\r\n",
        "    raise ValueError(f'Input `chosen_num_or_ratio` should be positive, '\r\n",
        "                     f'but {chosen_num_or_ratio} received!')\r\n",
        "\r\n",
        " # logger.info(f'Filtering training data.')\r\n",
        "  if invalid_value is not None:\r\n",
        "    latent_codes = latent_codes[scores[:, 0] != invalid_value]\r\n",
        "    scores = scores[scores[:, 0] != invalid_value]\r\n",
        "\r\n",
        " # logger.info(f'Sorting scores to get positive and negative samples.')\r\n",
        "  sorted_idx = np.argsort(scores, axis=0)[::-1, 0]\r\n",
        "  latent_codes = latent_codes[sorted_idx]\r\n",
        "  scores = scores[sorted_idx]\r\n",
        "  num_samples = latent_codes.shape[0]\r\n",
        "  if 0 < chosen_num_or_ratio <= 1:\r\n",
        "    chosen_num = int(num_samples * chosen_num_or_ratio)\r\n",
        "  else:\r\n",
        "    chosen_num = int(chosen_num_or_ratio)\r\n",
        "  chosen_num = min(chosen_num, num_samples // 2)\r\n",
        "\r\n",
        " # logger.info(f'Spliting training and validation sets:')\r\n",
        "  train_num = int(chosen_num * split_ratio)\r\n",
        "  val_num = chosen_num - train_num\r\n",
        "  # Positive samples.\r\n",
        "  positive_idx = np.arange(chosen_num)\r\n",
        "  np.random.shuffle(positive_idx)\r\n",
        "  positive_train = latent_codes[:chosen_num][positive_idx[:train_num]]\r\n",
        "  positive_val = latent_codes[:chosen_num][positive_idx[train_num:]]\r\n",
        "  # Negative samples.\r\n",
        "  negative_idx = np.arange(chosen_num)\r\n",
        "  np.random.shuffle(negative_idx)\r\n",
        "  negative_train = latent_codes[-chosen_num:][negative_idx[:train_num]]\r\n",
        "  negative_val = latent_codes[-chosen_num:][negative_idx[train_num:]]\r\n",
        "  # Training set.\r\n",
        "  train_data = np.concatenate([positive_train, negative_train], axis=0)\r\n",
        "  train_label = np.concatenate([np.ones(train_num, dtype=np.int),\r\n",
        "                                np.zeros(train_num, dtype=np.int)], axis=0)\r\n",
        " # logger.info(f'  Training: {train_num} positive, {train_num} negative.')\r\n",
        "  # Validation set.\r\n",
        "  val_data = np.concatenate([positive_val, negative_val], axis=0)\r\n",
        "  val_label = np.concatenate([np.ones(val_num, dtype=np.int),\r\n",
        "                              np.zeros(val_num, dtype=np.int)], axis=0)\r\n",
        "#  logger.info(f'  Validation: {val_num} positive, {val_num} negative.')\r\n",
        "  # Remaining set.\r\n",
        "  remaining_num = num_samples - chosen_num * 2\r\n",
        "  remaining_data = latent_codes[chosen_num:-chosen_num]\r\n",
        "  remaining_scores = scores[chosen_num:-chosen_num]\r\n",
        "  decision_value = (scores[0] + scores[-1]) / 2\r\n",
        "  remaining_label = np.ones(remaining_num, dtype=np.int)\r\n",
        "  remaining_label[remaining_scores.ravel() < decision_value] = 0\r\n",
        "  remaining_positive_num = np.sum(remaining_label == 1)\r\n",
        "  remaining_negative_num = np.sum(remaining_label == 0)\r\n",
        "#  logger.info(f'  Remaining: {remaining_positive_num} positive, '\r\n",
        "   #           f'{remaining_negative_num} negative.')\r\n",
        "\r\n",
        "  #print(train_data,train_label)\r\n",
        " # logger.info(f'Training boundary.')\r\n",
        "  clf = svm.SVC(kernel='linear')\r\n",
        "  classifier = clf.fit(train_data, train_label)\r\n",
        " # logger.info(f'Finish training.')\r\n",
        "\r\n",
        "  if val_num:\r\n",
        "    val_prediction = classifier.predict(val_data)\r\n",
        "    correct_num = np.sum(val_label == val_prediction)\r\n",
        "  #  logger.info(f'Accuracy for validation set: '\r\n",
        "                # f'{correct_num} / {val_num * 2} = '\r\n",
        "                # f'{correct_num / (val_num * 2):.6f}')\r\n",
        "\r\n",
        "  if remaining_num:\r\n",
        "    remaining_prediction = classifier.predict(remaining_data)\r\n",
        "    correct_num = np.sum(remaining_label == remaining_prediction)\r\n",
        "    # logger.info(f'Accuracy for remaining set: '\r\n",
        "    #             f'{correct_num} / {remaining_num} = '\r\n",
        "    #             f'{correct_num / remaining_num:.6f}')\r\n",
        "\r\n",
        "  a = classifier.coef_.reshape(1, latent_space_dim).astype(np.float32)\r\n",
        "  return a / np.linalg.norm(a)"
      ],
      "execution_count": 11,
      "outputs": []
    },
    {
      "cell_type": "markdown",
      "metadata": {
        "id": "AmUgsA6gBTw7"
      },
      "source": [
        "#### Load latent vectors and scores into memory"
      ]
    },
    {
      "cell_type": "code",
      "metadata": {
        "id": "P6aLFmboB_VY"
      },
      "source": [
        "import numpy as np\r\n",
        "latent_code = np.load(\"numpyarrglasses/glasses_latent_vectors.npy\")     # latent vectors as dimension (num_samples, 18*512) \r\n",
        "scores = np.load(\"numpyarrglasses/scores.npy\")\r\n",
        "#print(latent_code.shape)\r\n",
        "scores = scores[..., np.newaxis]    #scores as dimension (num_samples,1), scores signify how close the corresponding latent vector is to a image with glasses. 1 being, a high probability of the latent vector containing glasses, 0 being a low probability.\r\n",
        "result_latent_direction = train_boundary(latent_code,scores,100)\r\n",
        "\r\n"
      ],
      "execution_count": 64,
      "outputs": []
    },
    {
      "cell_type": "markdown",
      "metadata": {
        "id": "BBhhbvnwI65O"
      },
      "source": [
        "Create Boundary \r\n"
      ]
    },
    {
      "cell_type": "code",
      "metadata": {
        "colab": {
          "base_uri": "https://localhost:8080/"
        },
        "id": "gt_-AvbTG-RT",
        "outputId": "19cfb51a-e6bd-4120-dff9-02846384b8bd"
      },
      "source": [
        "result_latent_direction = result_latent_direction.reshape(18,512).astype(\"float32\")\r\n",
        "print(result_latent_direction.shape)"
      ],
      "execution_count": 67,
      "outputs": [
        {
          "output_type": "stream",
          "text": [
            "(18, 512)\n"
          ],
          "name": "stdout"
        }
      ]
    },
    {
      "cell_type": "markdown",
      "metadata": {
        "id": "nwOMi0cCId7G"
      },
      "source": [
        "#### Export the boundandary to google drive."
      ]
    },
    {
      "cell_type": "code",
      "metadata": {
        "id": "7URhfKEUGzMV"
      },
      "source": [
        "import os \r\n",
        "dst_dir = \"latent_direction/\"\r\n",
        "os.makedirs(dst_dir, exist_ok=True)\r\n",
        "filename = os.path.join(dst_dir, 'glasses_latent_direction.npy')\r\n",
        "np.save(filename,result_latent_direction)\r\n"
      ],
      "execution_count": 68,
      "outputs": []
    },
    {
      "cell_type": "code",
      "metadata": {
        "colab": {
          "base_uri": "https://localhost:8080/"
        },
        "id": "xLRKA-IpGr6k",
        "outputId": "1d5d4315-1e95-4178-cd43-8fa594f22d5b"
      },
      "source": [
        "folder_name = 'latent_direction'\r\n",
        "archive_name = 'glasses_latent_direction.tar.gz'\r\n",
        "!tar -cvf $archive_name $folder_name/\r\n",
        "!du -sh $archive_name"
      ],
      "execution_count": 69,
      "outputs": [
        {
          "output_type": "stream",
          "text": [
            "latent_direction/\n",
            "latent_direction/glasses_latent_direction.npy\n",
            "40K\tglasses_latent_direction.tar.gz\n"
          ],
          "name": "stdout"
        }
      ]
    },
    {
      "cell_type": "code",
      "metadata": {
        "colab": {
          "base_uri": "https://localhost:8080/"
        },
        "id": "XuY2x4IcIti8",
        "outputId": "5ee00ec2-e49c-4eb4-bbe8-80952e17815e"
      },
      "source": [
        "colab_transfer.copy_file(file_name=archive_name,\r\n",
        "                         source=colab_transfer.get_path_to_home_of_local_machine(),\r\n",
        "                         destination=colab_transfer.get_path_to_home_of_google_drive())"
      ],
      "execution_count": 70,
      "outputs": [
        {
          "output_type": "stream",
          "text": [
            "Copying /content/glasses_latent_direction.tar.gz to /content/drive/My Drive/glasses_latent_direction.tar.gz\n"
          ],
          "name": "stdout"
        }
      ]
    },
    {
      "cell_type": "markdown",
      "metadata": {
        "id": "JbOjbrwu1TTJ"
      },
      "source": [
        "# We can now proceed to apply liner interpolation to an image of our choosing ton give them glasses."
      ]
    }
  ]
}